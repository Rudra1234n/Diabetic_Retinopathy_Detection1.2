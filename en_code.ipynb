{
 "cells": [
  {
   "cell_type": "code",
   "execution_count": 9,
   "metadata": {},
   "outputs": [],
   "source": [
    "import pandas as pd\n",
    "from cryptography.fernet import Fernet\n",
    "import pickle\n",
    "import os"
   ]
  },
  {
   "cell_type": "code",
   "execution_count": 10,
   "metadata": {},
   "outputs": [],
   "source": [
    "# Step 1: Load the dataset from CSV\n",
    "input_csv_file = 'diabetes.csv'\n",
    "output_binary_file = 'encrypted_binary_data.bin'"
   ]
  },
  {
   "cell_type": "code",
   "execution_count": 11,
   "metadata": {},
   "outputs": [],
   "source": [
    "# Load the dataset from the CSV file into a Pandas DataFrame\n",
    "df = pd.read_csv(input_csv_file)"
   ]
  },
  {
   "cell_type": "code",
   "execution_count": 12,
   "metadata": {},
   "outputs": [],
   "source": [
    "# Step 2: Convert DataFrame to binary data\n",
    "binary_data = pickle.dumps(df)"
   ]
  },
  {
   "cell_type": "code",
   "execution_count": 13,
   "metadata": {},
   "outputs": [],
   "source": [
    "# Step 3: Encrypt the binary data using a secret key\n",
    "# Generate a secret key\n",
    "key = Fernet.generate_key()\n",
    "cipher_suite = Fernet(key)\n"
   ]
  },
  {
   "cell_type": "code",
   "execution_count": 14,
   "metadata": {},
   "outputs": [],
   "source": [
    "\n",
    "# Encrypt the binary data\n",
    "encrypted_data = cipher_suite.encrypt(binary_data)"
   ]
  },
  {
   "cell_type": "code",
   "execution_count": 15,
   "metadata": {},
   "outputs": [],
   "source": [
    "if os.path.exists(output_binary_file):\n",
    "    os.remove(output_binary_file)\n",
    "    \n",
    "# Save the encrypted binary data to a new file\n",
    "with open(output_binary_file, 'wb') as file:\n",
    "    file.write(encrypted_data)\n"
   ]
  },
  {
   "cell_type": "code",
   "execution_count": 16,
   "metadata": {},
   "outputs": [
    {
     "name": "stdout",
     "output_type": "stream",
     "text": [
      "Dataset has been converted to binary data, encrypted, and saved to encrypted_binary_data.bin\n",
      "Encryption Key: F3_g3VyfJfB_76gfk54y-q3nYqdgjsBZmZa5xa0aJ3w=\n"
     ]
    }
   ],
   "source": [
    "\n",
    "\n",
    "\n",
    "print(\"Dataset has been converted to binary data, encrypted, and saved to\", output_binary_file)\n",
    "print(\"Encryption Key:\", key.decode())  # Convert the key to a string for later decryption\n",
    "\n",
    "# You should securely store the encryption key as it will be needed for decryption.\n"
   ]
  }
 ],
 "metadata": {
  "kernelspec": {
   "display_name": "Python 3.9.15 ('base')",
   "language": "python",
   "name": "python3"
  },
  "language_info": {
   "codemirror_mode": {
    "name": "ipython",
    "version": 3
   },
   "file_extension": ".py",
   "mimetype": "text/x-python",
   "name": "python",
   "nbconvert_exporter": "python",
   "pygments_lexer": "ipython3",
   "version": "3.9.15"
  },
  "orig_nbformat": 4,
  "vscode": {
   "interpreter": {
    "hash": "732b359ed7aeab5db9d69d52812979a1e898fa8ac24aac6c20a925252960af01"
   }
  }
 },
 "nbformat": 4,
 "nbformat_minor": 2
}
